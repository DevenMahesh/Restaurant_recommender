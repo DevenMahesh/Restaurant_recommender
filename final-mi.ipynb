{
 "cells": [
  {
   "cell_type": "code",
   "execution_count": 1,
   "id": "8e8160d5",
   "metadata": {
    "_cell_guid": "b1076dfc-b9ad-4769-8c92-a6c4dae69d19",
    "_uuid": "8f2839f25d086af736a60e9eeb907d3b93b6e0e5",
    "execution": {
     "iopub.execute_input": "2023-11-24T03:49:06.734272Z",
     "iopub.status.busy": "2023-11-24T03:49:06.733637Z",
     "iopub.status.idle": "2023-11-24T03:49:06.757676Z",
     "shell.execute_reply": "2023-11-24T03:49:06.756405Z"
    },
    "papermill": {
     "duration": 0.038921,
     "end_time": "2023-11-24T03:49:06.760720",
     "exception": false,
     "start_time": "2023-11-24T03:49:06.721799",
     "status": "completed"
    },
    "tags": []
   },
   "outputs": [
    {
     "name": "stdout",
     "output_type": "stream",
     "text": [
      "/kaggle/input/zomato/zomato.csv\n"
     ]
    }
   ],
   "source": [
    "# This Python 3 environment comes with many helpful analytics libraries installed\n",
    "# It is defined by the kaggle/python Docker image: https://github.com/kaggle/docker-python\n",
    "# For example, here's several helpful packages to load\n",
    "\n",
    "import numpy as np # linear algebra\n",
    "import pandas as pd # data processing, CSV file I/O (e.g. pd.read_csv)\n",
    "\n",
    "# Input data files are available in the read-only \"../input/\" directory\n",
    "# For example, running this (by clicking run or pressing Shift+Enter) will list all files under the input directory\n",
    "\n",
    "import os\n",
    "for dirname, _, filenames in os.walk('/kaggle/input'):\n",
    "    for filename in filenames:\n",
    "        print(os.path.join(dirname, filename))\n",
    "\n",
    "# You can write up to 20GB to the current directory (/kaggle/working/) that gets preserved as output when you create a version using \"Save & Run All\" \n",
    "# You can also write temporary files to /kaggle/temp/, but they won't be saved outside of the current session"
   ]
  },
  {
   "cell_type": "code",
   "execution_count": 2,
   "id": "813c54a1",
   "metadata": {
    "execution": {
     "iopub.execute_input": "2023-11-24T03:49:06.779681Z",
     "iopub.status.busy": "2023-11-24T03:49:06.779230Z",
     "iopub.status.idle": "2023-11-24T03:49:09.182648Z",
     "shell.execute_reply": "2023-11-24T03:49:09.181112Z"
    },
    "papermill": {
     "duration": 2.416446,
     "end_time": "2023-11-24T03:49:09.186000",
     "exception": false,
     "start_time": "2023-11-24T03:49:06.769554",
     "status": "completed"
    },
    "tags": []
   },
   "outputs": [],
   "source": [
    "import numpy as np\n",
    "import pandas as pd\n",
    "import seaborn as sb\n",
    "import matplotlib.pyplot as plt\n",
    "import seaborn as sns\n",
    "from sklearn.linear_model import LogisticRegression\n",
    "from sklearn.linear_model import LinearRegression\n",
    "from sklearn.model_selection import train_test_split\n",
    "from sklearn.metrics import classification_report\n",
    "from sklearn.metrics import confusion_matrix\n",
    "from sklearn.metrics import r2_score\n",
    "import warnings\n",
    "warnings.filterwarnings('always')\n",
    "warnings.filterwarnings('ignore')\n",
    "import re\n",
    "from nltk.corpus import stopwords\n",
    "from sklearn.metrics.pairwise import linear_kernel\n",
    "from sklearn.feature_extraction.text import CountVectorizer\n",
    "from sklearn.feature_extraction.text import TfidfVectorizer"
   ]
  },
  {
   "cell_type": "code",
   "execution_count": 3,
   "id": "d28a5154",
   "metadata": {
    "execution": {
     "iopub.execute_input": "2023-11-24T03:49:09.204667Z",
     "iopub.status.busy": "2023-11-24T03:49:09.204152Z",
     "iopub.status.idle": "2023-11-24T03:49:21.404911Z",
     "shell.execute_reply": "2023-11-24T03:49:21.403456Z"
    },
    "papermill": {
     "duration": 12.213988,
     "end_time": "2023-11-24T03:49:21.408231",
     "exception": false,
     "start_time": "2023-11-24T03:49:09.194243",
     "status": "completed"
    },
    "tags": []
   },
   "outputs": [
    {
     "data": {
      "text/html": [
       "<div>\n",
       "<style scoped>\n",
       "    .dataframe tbody tr th:only-of-type {\n",
       "        vertical-align: middle;\n",
       "    }\n",
       "\n",
       "    .dataframe tbody tr th {\n",
       "        vertical-align: top;\n",
       "    }\n",
       "\n",
       "    .dataframe thead th {\n",
       "        text-align: right;\n",
       "    }\n",
       "</style>\n",
       "<table border=\"1\" class=\"dataframe\">\n",
       "  <thead>\n",
       "    <tr style=\"text-align: right;\">\n",
       "      <th></th>\n",
       "      <th>url</th>\n",
       "      <th>address</th>\n",
       "      <th>name</th>\n",
       "      <th>online_order</th>\n",
       "      <th>book_table</th>\n",
       "      <th>rate</th>\n",
       "      <th>votes</th>\n",
       "      <th>phone</th>\n",
       "      <th>location</th>\n",
       "      <th>rest_type</th>\n",
       "      <th>dish_liked</th>\n",
       "      <th>cuisines</th>\n",
       "      <th>approx_cost(for two people)</th>\n",
       "      <th>reviews_list</th>\n",
       "      <th>menu_item</th>\n",
       "      <th>listed_in(type)</th>\n",
       "      <th>listed_in(city)</th>\n",
       "    </tr>\n",
       "  </thead>\n",
       "  <tbody>\n",
       "    <tr>\n",
       "      <th>0</th>\n",
       "      <td>https://www.zomato.com/bangalore/jalsa-banasha...</td>\n",
       "      <td>942, 21st Main Road, 2nd Stage, Banashankari, ...</td>\n",
       "      <td>Jalsa</td>\n",
       "      <td>Yes</td>\n",
       "      <td>Yes</td>\n",
       "      <td>4.1/5</td>\n",
       "      <td>775</td>\n",
       "      <td>080 42297555\\r\\n+91 9743772233</td>\n",
       "      <td>Banashankari</td>\n",
       "      <td>Casual Dining</td>\n",
       "      <td>Pasta, Lunch Buffet, Masala Papad, Paneer Laja...</td>\n",
       "      <td>North Indian, Mughlai, Chinese</td>\n",
       "      <td>800</td>\n",
       "      <td>[('Rated 4.0', 'RATED\\n  A beautiful place to ...</td>\n",
       "      <td>[]</td>\n",
       "      <td>Buffet</td>\n",
       "      <td>Banashankari</td>\n",
       "    </tr>\n",
       "    <tr>\n",
       "      <th>1</th>\n",
       "      <td>https://www.zomato.com/bangalore/spice-elephan...</td>\n",
       "      <td>2nd Floor, 80 Feet Road, Near Big Bazaar, 6th ...</td>\n",
       "      <td>Spice Elephant</td>\n",
       "      <td>Yes</td>\n",
       "      <td>No</td>\n",
       "      <td>4.1/5</td>\n",
       "      <td>787</td>\n",
       "      <td>080 41714161</td>\n",
       "      <td>Banashankari</td>\n",
       "      <td>Casual Dining</td>\n",
       "      <td>Momos, Lunch Buffet, Chocolate Nirvana, Thai G...</td>\n",
       "      <td>Chinese, North Indian, Thai</td>\n",
       "      <td>800</td>\n",
       "      <td>[('Rated 4.0', 'RATED\\n  Had been here for din...</td>\n",
       "      <td>[]</td>\n",
       "      <td>Buffet</td>\n",
       "      <td>Banashankari</td>\n",
       "    </tr>\n",
       "    <tr>\n",
       "      <th>2</th>\n",
       "      <td>https://www.zomato.com/SanchurroBangalore?cont...</td>\n",
       "      <td>1112, Next to KIMS Medical College, 17th Cross...</td>\n",
       "      <td>San Churro Cafe</td>\n",
       "      <td>Yes</td>\n",
       "      <td>No</td>\n",
       "      <td>3.8/5</td>\n",
       "      <td>918</td>\n",
       "      <td>+91 9663487993</td>\n",
       "      <td>Banashankari</td>\n",
       "      <td>Cafe, Casual Dining</td>\n",
       "      <td>Churros, Cannelloni, Minestrone Soup, Hot Choc...</td>\n",
       "      <td>Cafe, Mexican, Italian</td>\n",
       "      <td>800</td>\n",
       "      <td>[('Rated 3.0', \"RATED\\n  Ambience is not that ...</td>\n",
       "      <td>[]</td>\n",
       "      <td>Buffet</td>\n",
       "      <td>Banashankari</td>\n",
       "    </tr>\n",
       "    <tr>\n",
       "      <th>3</th>\n",
       "      <td>https://www.zomato.com/bangalore/addhuri-udupi...</td>\n",
       "      <td>1st Floor, Annakuteera, 3rd Stage, Banashankar...</td>\n",
       "      <td>Addhuri Udupi Bhojana</td>\n",
       "      <td>No</td>\n",
       "      <td>No</td>\n",
       "      <td>3.7/5</td>\n",
       "      <td>88</td>\n",
       "      <td>+91 9620009302</td>\n",
       "      <td>Banashankari</td>\n",
       "      <td>Quick Bites</td>\n",
       "      <td>Masala Dosa</td>\n",
       "      <td>South Indian, North Indian</td>\n",
       "      <td>300</td>\n",
       "      <td>[('Rated 4.0', \"RATED\\n  Great food and proper...</td>\n",
       "      <td>[]</td>\n",
       "      <td>Buffet</td>\n",
       "      <td>Banashankari</td>\n",
       "    </tr>\n",
       "    <tr>\n",
       "      <th>4</th>\n",
       "      <td>https://www.zomato.com/bangalore/grand-village...</td>\n",
       "      <td>10, 3rd Floor, Lakshmi Associates, Gandhi Baza...</td>\n",
       "      <td>Grand Village</td>\n",
       "      <td>No</td>\n",
       "      <td>No</td>\n",
       "      <td>3.8/5</td>\n",
       "      <td>166</td>\n",
       "      <td>+91 8026612447\\r\\n+91 9901210005</td>\n",
       "      <td>Basavanagudi</td>\n",
       "      <td>Casual Dining</td>\n",
       "      <td>Panipuri, Gol Gappe</td>\n",
       "      <td>North Indian, Rajasthani</td>\n",
       "      <td>600</td>\n",
       "      <td>[('Rated 4.0', 'RATED\\n  Very good restaurant ...</td>\n",
       "      <td>[]</td>\n",
       "      <td>Buffet</td>\n",
       "      <td>Banashankari</td>\n",
       "    </tr>\n",
       "  </tbody>\n",
       "</table>\n",
       "</div>"
      ],
      "text/plain": [
       "                                                 url  \\\n",
       "0  https://www.zomato.com/bangalore/jalsa-banasha...   \n",
       "1  https://www.zomato.com/bangalore/spice-elephan...   \n",
       "2  https://www.zomato.com/SanchurroBangalore?cont...   \n",
       "3  https://www.zomato.com/bangalore/addhuri-udupi...   \n",
       "4  https://www.zomato.com/bangalore/grand-village...   \n",
       "\n",
       "                                             address                   name  \\\n",
       "0  942, 21st Main Road, 2nd Stage, Banashankari, ...                  Jalsa   \n",
       "1  2nd Floor, 80 Feet Road, Near Big Bazaar, 6th ...         Spice Elephant   \n",
       "2  1112, Next to KIMS Medical College, 17th Cross...        San Churro Cafe   \n",
       "3  1st Floor, Annakuteera, 3rd Stage, Banashankar...  Addhuri Udupi Bhojana   \n",
       "4  10, 3rd Floor, Lakshmi Associates, Gandhi Baza...          Grand Village   \n",
       "\n",
       "  online_order book_table   rate  votes                             phone  \\\n",
       "0          Yes        Yes  4.1/5    775    080 42297555\\r\\n+91 9743772233   \n",
       "1          Yes         No  4.1/5    787                      080 41714161   \n",
       "2          Yes         No  3.8/5    918                    +91 9663487993   \n",
       "3           No         No  3.7/5     88                    +91 9620009302   \n",
       "4           No         No  3.8/5    166  +91 8026612447\\r\\n+91 9901210005   \n",
       "\n",
       "       location            rest_type  \\\n",
       "0  Banashankari        Casual Dining   \n",
       "1  Banashankari        Casual Dining   \n",
       "2  Banashankari  Cafe, Casual Dining   \n",
       "3  Banashankari          Quick Bites   \n",
       "4  Basavanagudi        Casual Dining   \n",
       "\n",
       "                                          dish_liked  \\\n",
       "0  Pasta, Lunch Buffet, Masala Papad, Paneer Laja...   \n",
       "1  Momos, Lunch Buffet, Chocolate Nirvana, Thai G...   \n",
       "2  Churros, Cannelloni, Minestrone Soup, Hot Choc...   \n",
       "3                                        Masala Dosa   \n",
       "4                                Panipuri, Gol Gappe   \n",
       "\n",
       "                         cuisines approx_cost(for two people)  \\\n",
       "0  North Indian, Mughlai, Chinese                         800   \n",
       "1     Chinese, North Indian, Thai                         800   \n",
       "2          Cafe, Mexican, Italian                         800   \n",
       "3      South Indian, North Indian                         300   \n",
       "4        North Indian, Rajasthani                         600   \n",
       "\n",
       "                                        reviews_list menu_item  \\\n",
       "0  [('Rated 4.0', 'RATED\\n  A beautiful place to ...        []   \n",
       "1  [('Rated 4.0', 'RATED\\n  Had been here for din...        []   \n",
       "2  [('Rated 3.0', \"RATED\\n  Ambience is not that ...        []   \n",
       "3  [('Rated 4.0', \"RATED\\n  Great food and proper...        []   \n",
       "4  [('Rated 4.0', 'RATED\\n  Very good restaurant ...        []   \n",
       "\n",
       "  listed_in(type) listed_in(city)  \n",
       "0          Buffet    Banashankari  \n",
       "1          Buffet    Banashankari  \n",
       "2          Buffet    Banashankari  \n",
       "3          Buffet    Banashankari  \n",
       "4          Buffet    Banashankari  "
      ]
     },
     "execution_count": 3,
     "metadata": {},
     "output_type": "execute_result"
    }
   ],
   "source": [
    "zomato_real=pd.read_csv(\"../input/zomato/zomato.csv\")\n",
    "zomato_real.head()"
   ]
  },
  {
   "cell_type": "code",
   "execution_count": 4,
   "id": "a277903a",
   "metadata": {
    "execution": {
     "iopub.execute_input": "2023-11-24T03:49:21.428011Z",
     "iopub.status.busy": "2023-11-24T03:49:21.427570Z",
     "iopub.status.idle": "2023-11-24T03:51:17.582367Z",
     "shell.execute_reply": "2023-11-24T03:51:17.580985Z"
    },
    "papermill": {
     "duration": 116.168269,
     "end_time": "2023-11-24T03:51:17.585672",
     "exception": false,
     "start_time": "2023-11-24T03:49:21.417403",
     "status": "completed"
    },
    "tags": []
   },
   "outputs": [],
   "source": [
    "#Deleting Unnnecessary Columns\n",
    "zomato=zomato_real.drop(['url','dish_liked','phone'],axis=1)\n",
    "#Removing the Duplicates\n",
    "zomato.duplicated().sum()\n",
    "zomato.drop_duplicates(inplace=True)\n",
    "#Remove the NaN values from the dataset\n",
    "zomato.isnull().sum()\n",
    "zomato.dropna(how='any',inplace=True)\n",
    "#Changing the column names\n",
    "zomato = zomato.rename(columns={'approx_cost(for two people)':'cost','listed_in(type)':'type', 'listed_in(city)':'city'})\n",
    "#Some Transformations\n",
    "zomato['cost'] = zomato['cost'].astype(str) #Changing the cost to string\n",
    "zomato['cost'] = zomato['cost'].apply(lambda x: x.replace(',',''))\n",
    "zomato['cost'] = zomato['cost'].astype(float)\n",
    "#Removing '/5' from Rates\n",
    "zomato = zomato.loc[zomato.rate !='NEW']\n",
    "zomato = zomato.loc[zomato.rate !='-'].reset_index(drop=True)\n",
    "remove_slash = lambda x: x.replace('/5', '') if type(x) == np.str else x\n",
    "zomato.rate = zomato.rate.apply(remove_slash).str.strip().astype('float')\n",
    "\n",
    "# Adjust the column names\n",
    "zomato.name = zomato.name.apply(lambda x:x.title())\n",
    "zomato.online_order.replace(('Yes','No'),(True, False),inplace=True)\n",
    "zomato.book_table.replace(('Yes','No'),(True, False),inplace=True)\n",
    "\n",
    "# Computing Mean Rating\n",
    "restaurants = list(zomato['name'].unique())\n",
    "zomato['Mean Rating'] = 0\n",
    "\n",
    "for i in range(len(restaurants)):\n",
    "    zomato['Mean Rating'][zomato['name'] == restaurants[i]] = zomato['rate'][zomato['name'] == restaurants[i]].mean()\n",
    "    \n",
    "from sklearn.preprocessing import MinMaxScaler\n",
    "scaler = MinMaxScaler(feature_range = (1,5))\n",
    "zomato[['Mean Rating']] = scaler.fit_transform(zomato[['Mean Rating']]).round(2)"
   ]
  },
  {
   "cell_type": "code",
   "execution_count": 5,
   "id": "a4a897a2",
   "metadata": {
    "execution": {
     "iopub.execute_input": "2023-11-24T03:51:17.605394Z",
     "iopub.status.busy": "2023-11-24T03:51:17.604919Z",
     "iopub.status.idle": "2023-11-24T03:52:32.099814Z",
     "shell.execute_reply": "2023-11-24T03:52:32.098140Z"
    },
    "papermill": {
     "duration": 74.515529,
     "end_time": "2023-11-24T03:52:32.110211",
     "exception": false,
     "start_time": "2023-11-24T03:51:17.594682",
     "status": "completed"
    },
    "tags": []
   },
   "outputs": [
    {
     "data": {
      "text/html": [
       "<div>\n",
       "<style scoped>\n",
       "    .dataframe tbody tr th:only-of-type {\n",
       "        vertical-align: middle;\n",
       "    }\n",
       "\n",
       "    .dataframe tbody tr th {\n",
       "        vertical-align: top;\n",
       "    }\n",
       "\n",
       "    .dataframe thead th {\n",
       "        text-align: right;\n",
       "    }\n",
       "</style>\n",
       "<table border=\"1\" class=\"dataframe\">\n",
       "  <thead>\n",
       "    <tr style=\"text-align: right;\">\n",
       "      <th></th>\n",
       "      <th>reviews_list</th>\n",
       "      <th>cuisines</th>\n",
       "    </tr>\n",
       "  </thead>\n",
       "  <tbody>\n",
       "    <tr>\n",
       "      <th>32786</th>\n",
       "      <td>rated 40 ratedn got 1 rice combo 1 full meal k...</td>\n",
       "      <td>North Indian</td>\n",
       "    </tr>\n",
       "    <tr>\n",
       "      <th>37335</th>\n",
       "      <td>rated 40 ratedn amazing food pricegood place t...</td>\n",
       "      <td>Fast Food, Desserts</td>\n",
       "    </tr>\n",
       "    <tr>\n",
       "      <th>30763</th>\n",
       "      <td>rated 50 ratedn undoubtedly say best steak pla...</td>\n",
       "      <td>North Eastern, Asian, Naga, Steak, Momos</td>\n",
       "    </tr>\n",
       "    <tr>\n",
       "      <th>4160</th>\n",
       "      <td>rated 40 ratedn nnbelgian waffles originated s...</td>\n",
       "      <td>Desserts, Beverages</td>\n",
       "    </tr>\n",
       "    <tr>\n",
       "      <th>4173</th>\n",
       "      <td>rated 30 ratedn heard lot place hence decided ...</td>\n",
       "      <td>Nepalese, Tibetan, Momos</td>\n",
       "    </tr>\n",
       "  </tbody>\n",
       "</table>\n",
       "</div>"
      ],
      "text/plain": [
       "                                            reviews_list  \\\n",
       "32786  rated 40 ratedn got 1 rice combo 1 full meal k...   \n",
       "37335  rated 40 ratedn amazing food pricegood place t...   \n",
       "30763  rated 50 ratedn undoubtedly say best steak pla...   \n",
       "4160   rated 40 ratedn nnbelgian waffles originated s...   \n",
       "4173   rated 30 ratedn heard lot place hence decided ...   \n",
       "\n",
       "                                       cuisines  \n",
       "32786                              North Indian  \n",
       "37335                       Fast Food, Desserts  \n",
       "30763  North Eastern, Asian, Naga, Steak, Momos  \n",
       "4160                        Desserts, Beverages  \n",
       "4173                   Nepalese, Tibetan, Momos  "
      ]
     },
     "execution_count": 5,
     "metadata": {},
     "output_type": "execute_result"
    }
   ],
   "source": [
    "# Lower Casing\n",
    "zomato[\"reviews_list\"] = zomato[\"reviews_list\"].str.lower()\n",
    "\n",
    "## Removal of Puctuations\n",
    "import string\n",
    "PUNCT_TO_REMOVE = string.punctuation\n",
    "def remove_punctuation(text):\n",
    "    \"\"\"custom function to remove the punctuation\"\"\"\n",
    "    return text.translate(str.maketrans('', '', PUNCT_TO_REMOVE))\n",
    "\n",
    "zomato[\"reviews_list\"] = zomato[\"reviews_list\"].apply(lambda text: remove_punctuation(text))\n",
    "\n",
    "## Removal of Stopwords\n",
    "from nltk.corpus import stopwords\n",
    "STOPWORDS = set(stopwords.words('english'))\n",
    "def remove_stopwords(text):\n",
    "    \"\"\"custom function to remove the stopwords\"\"\"\n",
    "    return \" \".join([word for word in str(text).split() if word not in STOPWORDS])\n",
    "\n",
    "zomato[\"reviews_list\"] = zomato[\"reviews_list\"].apply(lambda text: remove_stopwords(text))\n",
    "\n",
    "## Removal of URLS\n",
    "def remove_urls(text):\n",
    "    url_pattern = re.compile(r'https?://\\S+|www\\.\\S+')\n",
    "    return url_pattern.sub(r'', text)\n",
    "\n",
    "zomato[\"reviews_list\"] = zomato[\"reviews_list\"].apply(lambda text: remove_urls(text))\n",
    "\n",
    "zomato[['reviews_list', 'cuisines']].sample(5)"
   ]
  },
  {
   "cell_type": "code",
   "execution_count": 6,
   "id": "368d7cf1",
   "metadata": {
    "_kg_hide-output": false,
    "execution": {
     "iopub.execute_input": "2023-11-24T03:52:32.132718Z",
     "iopub.status.busy": "2023-11-24T03:52:32.132260Z",
     "iopub.status.idle": "2023-11-24T03:52:32.171035Z",
     "shell.execute_reply": "2023-11-24T03:52:32.169535Z"
    },
    "papermill": {
     "duration": 0.054944,
     "end_time": "2023-11-24T03:52:32.174128",
     "exception": false,
     "start_time": "2023-11-24T03:52:32.119184",
     "status": "completed"
    },
    "tags": []
   },
   "outputs": [
    {
     "name": "stdout",
     "output_type": "stream",
     "text": [
      "                                          name  online_order  book_table  \\\n",
      "23256                       Wok Paper Scissors          True       False   \n",
      "20853                           Mini Fast Food         False       False   \n",
      "37644                 Samudra Bar & Restaurant         False       False   \n",
      "23158  Saara'S Grill N Spice - Ss Lumina Hotel         False        True   \n",
      "34343                                Minimelts         False       False   \n",
      "...                                        ...           ...         ...   \n",
      "14760                                   Forage         False        True   \n",
      "26189                           Lord Of Combos          True       False   \n",
      "7532                               China Pearl          True        True   \n",
      "21852                                   Atithi          True        True   \n",
      "32732                             O2 Juice Bar          True       False   \n",
      "\n",
      "       rate               location                                  cuisines  \\\n",
      "23256   4.3  Koramangala 5th Block    Asian, Malaysian, Chinese, Thai, Momos   \n",
      "20853   3.1            Frazer Town                        Fast Food, Chinese   \n",
      "37644   2.9          Seshadripuram            North Indian, Mughlai, Chinese   \n",
      "23158   4.3  Koramangala 7th Block          North Indian, Arabian, Beverages   \n",
      "34343   3.9           Brigade Road                                 Ice Cream   \n",
      "...     ...                    ...                                       ...   \n",
      "14760   4.1            Indiranagar  Healthy Food, Beverages, European, Salad   \n",
      "26189   3.0                    HSR                              North Indian   \n",
      "7532    4.4  Koramangala 6th Block                                   Chinese   \n",
      "21852   3.9                    HSR        North Indian, Chinese, Street Food   \n",
      "32732   3.6           Marathahalli                         Juices, Fast Food   \n",
      "\n",
      "         cost                                       reviews_list  \\\n",
      "23256   550.0  rated 40 ratedn food best order ramen youãx83...   \n",
      "20853   150.0  rated 30 ratedn usual kerala fare check intere...   \n",
      "37644   800.0  rated 10 ratedn lunch ordered chicken chilly b...   \n",
      "23158  1000.0  rated 40 ratedn decent option craving arabic f...   \n",
      "34343   200.0  rated 40 ratedn entrance fifth avenue ice crea...   \n",
      "...       ...                                                ...   \n",
      "14760  1500.0  rated 50 ratedn clutter madness indranagar oas...   \n",
      "26189   500.0  rated 30 ratedn nice name restaurant made orde...   \n",
      "7532   1100.0  rated 40 ratedn food 45nambience 45 typical ch...   \n",
      "21852   800.0  rated 50 ratedn nice place really liked food p...   \n",
      "32732   200.0  rated 50 ratedn regular customer love fruit nu...   \n",
      "\n",
      "                        city  Mean Rating  \n",
      "23256  Koramangala 5th Block         4.23  \n",
      "20853           Kammanahalli         2.68  \n",
      "37644            Rajajinagar         2.42  \n",
      "23158  Koramangala 5th Block         4.23  \n",
      "34343                MG Road         3.71  \n",
      "...                      ...          ...  \n",
      "14760            Indiranagar         4.03  \n",
      "26189  Koramangala 6th Block         2.63  \n",
      "7532                     BTM         4.25  \n",
      "21852  Koramangala 4th Block         3.63  \n",
      "32732           Marathahalli         3.26  \n",
      "\n",
      "[28866 rows x 10 columns]\n"
     ]
    }
   ],
   "source": [
    "# RESTAURANT NAMES:\n",
    "restaurant_names = list(zomato['name'].unique())\n",
    "zomato1=zomato.drop(['address','rest_type', 'type', 'menu_item', 'votes'],axis=1)\n",
    "import pandas\n",
    "# Randomly sample 70% of your dataframe\n",
    "df_percent = zomato1.sample(frac=0.7)\n",
    "print(df_percent)"
   ]
  },
  {
   "cell_type": "code",
   "execution_count": 7,
   "id": "e0ecd7b9",
   "metadata": {
    "execution": {
     "iopub.execute_input": "2023-11-24T03:52:32.194649Z",
     "iopub.status.busy": "2023-11-24T03:52:32.194188Z",
     "iopub.status.idle": "2023-11-24T03:57:06.403622Z",
     "shell.execute_reply": "2023-11-24T03:57:06.402228Z"
    },
    "papermill": {
     "duration": 274.223714,
     "end_time": "2023-11-24T03:57:06.406930",
     "exception": false,
     "start_time": "2023-11-24T03:52:32.183216",
     "status": "completed"
    },
    "tags": []
   },
   "outputs": [
    {
     "name": "stdout",
     "output_type": "stream",
     "text": [
      "TfidfVectorizer(min_df=0, ngram_range=(1, 2), stop_words='english')\n"
     ]
    }
   ],
   "source": [
    "df_percent.set_index('name', inplace=True)\n",
    "indices = pd.Series(df_percent.index)\n",
    "\n",
    "# Creating tf-idf matrix\n",
    "tfidf = TfidfVectorizer(analyzer='word', ngram_range=(1, 2), min_df=0, stop_words='english')\n",
    "tfidf_matrix = tfidf.fit_transform(df_percent['reviews_list'])\n",
    "print(tfidf)\n",
    "cosine_similarities = linear_kernel(tfidf_matrix, tfidf_matrix)"
   ]
  },
  {
   "cell_type": "code",
   "execution_count": 8,
   "id": "578d449f",
   "metadata": {
    "execution": {
     "iopub.execute_input": "2023-11-24T03:57:06.428136Z",
     "iopub.status.busy": "2023-11-24T03:57:06.427701Z",
     "iopub.status.idle": "2023-11-24T03:57:06.447690Z",
     "shell.execute_reply": "2023-11-24T03:57:06.446366Z"
    },
    "papermill": {
     "duration": 0.033318,
     "end_time": "2023-11-24T03:57:06.450337",
     "exception": false,
     "start_time": "2023-11-24T03:57:06.417019",
     "status": "completed"
    },
    "tags": []
   },
   "outputs": [
    {
     "name": "stdout",
     "output_type": "stream",
     "text": [
      "                                         online_order  book_table  rate  \\\n",
      "name                                                                      \n",
      "Wok Paper Scissors                               True       False   4.3   \n",
      "Mini Fast Food                                  False       False   3.1   \n",
      "Samudra Bar & Restaurant                        False       False   2.9   \n",
      "Saara'S Grill N Spice - Ss Lumina Hotel         False        True   4.3   \n",
      "Minimelts                                       False       False   3.9   \n",
      "...                                               ...         ...   ...   \n",
      "Forage                                          False        True   4.1   \n",
      "Lord Of Combos                                   True       False   3.0   \n",
      "China Pearl                                      True        True   4.4   \n",
      "Atithi                                           True        True   3.9   \n",
      "O2 Juice Bar                                     True       False   3.6   \n",
      "\n",
      "                                                      location  \\\n",
      "name                                                             \n",
      "Wok Paper Scissors                       Koramangala 5th Block   \n",
      "Mini Fast Food                                     Frazer Town   \n",
      "Samudra Bar & Restaurant                         Seshadripuram   \n",
      "Saara'S Grill N Spice - Ss Lumina Hotel  Koramangala 7th Block   \n",
      "Minimelts                                         Brigade Road   \n",
      "...                                                        ...   \n",
      "Forage                                             Indiranagar   \n",
      "Lord Of Combos                                             HSR   \n",
      "China Pearl                              Koramangala 6th Block   \n",
      "Atithi                                                     HSR   \n",
      "O2 Juice Bar                                      Marathahalli   \n",
      "\n",
      "                                                                         cuisines  \\\n",
      "name                                                                                \n",
      "Wok Paper Scissors                         Asian, Malaysian, Chinese, Thai, Momos   \n",
      "Mini Fast Food                                                 Fast Food, Chinese   \n",
      "Samudra Bar & Restaurant                           North Indian, Mughlai, Chinese   \n",
      "Saara'S Grill N Spice - Ss Lumina Hotel          North Indian, Arabian, Beverages   \n",
      "Minimelts                                                               Ice Cream   \n",
      "...                                                                           ...   \n",
      "Forage                                   Healthy Food, Beverages, European, Salad   \n",
      "Lord Of Combos                                                       North Indian   \n",
      "China Pearl                                                               Chinese   \n",
      "Atithi                                         North Indian, Chinese, Street Food   \n",
      "O2 Juice Bar                                                    Juices, Fast Food   \n",
      "\n",
      "                                           cost  \\\n",
      "name                                              \n",
      "Wok Paper Scissors                        550.0   \n",
      "Mini Fast Food                            150.0   \n",
      "Samudra Bar & Restaurant                  800.0   \n",
      "Saara'S Grill N Spice - Ss Lumina Hotel  1000.0   \n",
      "Minimelts                                 200.0   \n",
      "...                                         ...   \n",
      "Forage                                   1500.0   \n",
      "Lord Of Combos                            500.0   \n",
      "China Pearl                              1100.0   \n",
      "Atithi                                    800.0   \n",
      "O2 Juice Bar                              200.0   \n",
      "\n",
      "                                                                              reviews_list  \\\n",
      "name                                                                                         \n",
      "Wok Paper Scissors                       rated 40 ratedn food best order ramen youãx83...   \n",
      "Mini Fast Food                           rated 30 ratedn usual kerala fare check intere...   \n",
      "Samudra Bar & Restaurant                 rated 10 ratedn lunch ordered chicken chilly b...   \n",
      "Saara'S Grill N Spice - Ss Lumina Hotel  rated 40 ratedn decent option craving arabic f...   \n",
      "Minimelts                                rated 40 ratedn entrance fifth avenue ice crea...   \n",
      "...                                                                                    ...   \n",
      "Forage                                   rated 50 ratedn clutter madness indranagar oas...   \n",
      "Lord Of Combos                           rated 30 ratedn nice name restaurant made orde...   \n",
      "China Pearl                              rated 40 ratedn food 45nambience 45 typical ch...   \n",
      "Atithi                                   rated 50 ratedn nice place really liked food p...   \n",
      "O2 Juice Bar                             rated 50 ratedn regular customer love fruit nu...   \n",
      "\n",
      "                                                          city  Mean Rating  \n",
      "name                                                                         \n",
      "Wok Paper Scissors                       Koramangala 5th Block         4.23  \n",
      "Mini Fast Food                                    Kammanahalli         2.68  \n",
      "Samudra Bar & Restaurant                           Rajajinagar         2.42  \n",
      "Saara'S Grill N Spice - Ss Lumina Hotel  Koramangala 5th Block         4.23  \n",
      "Minimelts                                              MG Road         3.71  \n",
      "...                                                        ...          ...  \n",
      "Forage                                             Indiranagar         4.03  \n",
      "Lord Of Combos                           Koramangala 6th Block         2.63  \n",
      "China Pearl                                                BTM         4.25  \n",
      "Atithi                                   Koramangala 4th Block         3.63  \n",
      "O2 Juice Bar                                      Marathahalli         3.26  \n",
      "\n",
      "[28866 rows x 9 columns]\n"
     ]
    }
   ],
   "source": [
    "print(df_percent)"
   ]
  },
  {
   "cell_type": "code",
   "execution_count": 9,
   "id": "e23c78a7",
   "metadata": {
    "execution": {
     "iopub.execute_input": "2023-11-24T03:57:06.471511Z",
     "iopub.status.busy": "2023-11-24T03:57:06.471100Z",
     "iopub.status.idle": "2023-11-24T03:57:06.641489Z",
     "shell.execute_reply": "2023-11-24T03:57:06.640154Z"
    },
    "papermill": {
     "duration": 0.184289,
     "end_time": "2023-11-24T03:57:06.644178",
     "exception": false,
     "start_time": "2023-11-24T03:57:06.459889",
     "status": "completed"
    },
    "tags": []
   },
   "outputs": [
    {
     "data": {
      "text/plain": [
       "['Shree Thali',\n",
       " 'Mayura Sagar',\n",
       " 'Pai Vihar',\n",
       " 'Punjabi Tasty Khana',\n",
       " 'Cinnamon',\n",
       " 'Mast Kalandar',\n",
       " 'Prasiddhi Food Corner',\n",
       " 'Gokul Kuteera',\n",
       " 'Kakaji',\n",
       " 'Delhi Home Food',\n",
       " 'Punjabi Dawat']"
      ]
     },
     "execution_count": 9,
     "metadata": {},
     "output_type": "execute_result"
    }
   ],
   "source": [
    "def recommend(name, cosine_similarities = cosine_similarities):\n",
    "    \n",
    "    # Create a list to put top restaurants\n",
    "    recommend_restaurant = []\n",
    "    \n",
    "    # Find the index of the hotel entered\n",
    "    idx = indices[indices == name].index[0]\n",
    "    \n",
    "    # Find the restaurants with a similar cosine-sim value and order them from bigges number\n",
    "    score_series = pd.Series(cosine_similarities[idx]).sort_values(ascending=False)\n",
    "    \n",
    "    top_indexes = list(score_series.iloc[0:30].index)\n",
    "    for each in top_indexes:\n",
    "            recommend_restaurant.append(list(df_percent.index)[each])\n",
    "    list_set = set(recommend_restaurant)\n",
    "    unique_list = (list(list_set))\n",
    "    recommend_restaurant\n",
    "    return(unique_list)\n",
    "recommend('Pai Vihar')"
   ]
  },
  {
   "cell_type": "code",
   "execution_count": 10,
   "id": "a0e7e871",
   "metadata": {
    "execution": {
     "iopub.execute_input": "2023-11-24T03:57:06.666176Z",
     "iopub.status.busy": "2023-11-24T03:57:06.664652Z",
     "iopub.status.idle": "2023-11-24T03:57:07.947922Z",
     "shell.execute_reply": "2023-11-24T03:57:07.946670Z"
    },
    "papermill": {
     "duration": 1.297107,
     "end_time": "2023-11-24T03:57:07.950789",
     "exception": false,
     "start_time": "2023-11-24T03:57:06.653682",
     "status": "completed"
    },
    "tags": []
   },
   "outputs": [
    {
     "name": "stdout",
     "output_type": "stream",
     "text": [
      "       online_order  rate  location  rest_type  cuisines  type\n",
      "41191             1   3.7        25         32       237     5\n",
      "1572              1   3.8        11         35        20     4\n",
      "4743              1   3.0        35         10        69     3\n",
      "21832             0   3.4        21          2       416     2\n",
      "30729             1   4.0        19         14       815     4\n",
      "...             ...   ...       ...        ...       ...   ...\n",
      "5051              1   3.9        39          0      1009     4\n",
      "36532             0   4.2        28          0      1718     4\n",
      "38364             1   3.8        17          7        26     3\n",
      "17035             0   3.3        11          2        63     4\n",
      "32381             0   4.6        24         25       178     2\n",
      "\n",
      "[28865 rows x 6 columns]\n",
      "41191    1700.0\n",
      "1572      700.0\n",
      "4743      150.0\n",
      "21832     200.0\n",
      "30729    2000.0\n",
      "          ...  \n",
      "5051      800.0\n",
      "36532    1400.0\n",
      "38364     350.0\n",
      "17035     350.0\n",
      "32381     400.0\n",
      "Name: cost, Length: 28865, dtype: float64\n"
     ]
    }
   ],
   "source": [
    "#encode the input variables\n",
    "def Encode(zomato):\n",
    "    for column in zomato.columns[~zomato.columns.isin(['rate', 'cost', 'votes'])]:\n",
    "        zomato[column] = zomato[column].factorize()[0]\n",
    "    return zomato\n",
    "zomato_en = Encode(zomato.copy())\n",
    "\n",
    "\n",
    "#defining the independent variables\n",
    "x = zomato_en.iloc[:,[2,4,6,7,8,12]]\n",
    "y = zomato_en['cost']\n",
    "\n",
    "#getting Test and Trainnig Set\n",
    "x_train,x_test,y_train,y_test=train_test_split(x,y,test_size=.3,random_state=353)\n",
    "print(x_train)\n",
    "print(y_train)"
   ]
  },
  {
   "cell_type": "code",
   "execution_count": 11,
   "id": "37053e20",
   "metadata": {
    "execution": {
     "iopub.execute_input": "2023-11-24T03:57:07.972432Z",
     "iopub.status.busy": "2023-11-24T03:57:07.971375Z",
     "iopub.status.idle": "2023-11-24T03:57:11.998765Z",
     "shell.execute_reply": "2023-11-24T03:57:11.996174Z"
    },
    "papermill": {
     "duration": 4.043319,
     "end_time": "2023-11-24T03:57:12.003691",
     "exception": false,
     "start_time": "2023-11-24T03:57:07.960372",
     "status": "completed"
    },
    "tags": []
   },
   "outputs": [
    {
     "name": "stdout",
     "output_type": "stream",
     "text": [
      "[ 311.5  331.   658.5 ...  450.   900.  1100. ]\n"
     ]
    },
    {
     "data": {
      "text/plain": [
       "0.9564472186746422"
      ]
     },
     "execution_count": 11,
     "metadata": {},
     "output_type": "execute_result"
    }
   ],
   "source": [
    "#Preparing Extra Tree Regression\n",
    "from sklearn.ensemble import  ExtraTreesRegressor\n",
    "ETree=ExtraTreesRegressor(n_estimators = 100)\n",
    "ETree.fit(x_train,y_train)\n",
    "y_predict=ETree.predict(x_test)\n",
    "print(y_predict)\n",
    "from sklearn.metrics import r2_score\n",
    "r2_score(y_test,y_predict)"
   ]
  },
  {
   "cell_type": "code",
   "execution_count": 12,
   "id": "1b59d535",
   "metadata": {
    "execution": {
     "iopub.execute_input": "2023-11-24T03:57:12.029443Z",
     "iopub.status.busy": "2023-11-24T03:57:12.028965Z",
     "iopub.status.idle": "2023-11-24T03:57:12.182512Z",
     "shell.execute_reply": "2023-11-24T03:57:12.180776Z"
    },
    "papermill": {
     "duration": 0.169424,
     "end_time": "2023-11-24T03:57:12.185504",
     "exception": false,
     "start_time": "2023-11-24T03:57:12.016080",
     "status": "completed"
    },
    "tags": []
   },
   "outputs": [
    {
     "name": "stdout",
     "output_type": "stream",
     "text": [
      "['New Udupi Upahar', 'Chullah Bhatti', 'Willys Top Cafe']\n",
      "531.046875\n"
     ]
    }
   ],
   "source": [
    "import random\n",
    "def predict_rate(l1):\n",
    "    dfz1 = pd.DataFrame()\n",
    "    for j in l1:\n",
    "        v=zomato[zomato['name'] == j].index\n",
    "        zomato[zomato['name'] == j].index\n",
    "        z=[]\n",
    "        for i in v:\n",
    "            z.append(dict(zomato_en.iloc[i]))\n",
    "            x=dict(zomato_en.iloc[i])\n",
    "            dfz1 = dfz1.append(x, ignore_index=True)\n",
    "    l = dfz1.iloc[:,[2,4,6,7,8,12]]\n",
    "    x=ETree.predict(l)\n",
    "    return (sum(x) / len(x))\n",
    "l2=[]\n",
    "z=random.randint(0, zomato.shape[0])\n",
    "l2.append(zomato.iloc[z]['name'])\n",
    "z=random.randint(0, zomato.shape[0])\n",
    "l2.append(zomato.iloc[z]['name'])\n",
    "z=random.randint(0, zomato.shape[0])\n",
    "l2.append(zomato.iloc[z]['name'])\n",
    "print(l2)\n",
    "y=predict_rate(l2)\n",
    "print(y)"
   ]
  },
  {
   "cell_type": "code",
   "execution_count": 13,
   "id": "32ffad87",
   "metadata": {
    "execution": {
     "iopub.execute_input": "2023-11-24T03:57:12.207767Z",
     "iopub.status.busy": "2023-11-24T03:57:12.207328Z",
     "iopub.status.idle": "2023-11-24T03:57:12.228481Z",
     "shell.execute_reply": "2023-11-24T03:57:12.226886Z"
    },
    "papermill": {
     "duration": 0.035488,
     "end_time": "2023-11-24T03:57:12.231281",
     "exception": false,
     "start_time": "2023-11-24T03:57:12.195793",
     "status": "completed"
    },
    "tags": []
   },
   "outputs": [
    {
     "name": "stdout",
     "output_type": "stream",
     "text": [
      "       rate  votes  location\n",
      "41191   3.7     95        25\n",
      "1572    3.8     69        11\n",
      "4743    3.0     31        35\n",
      "21832   3.4      6        21\n",
      "30729   4.0     53        19\n",
      "...     ...    ...       ...\n",
      "5051    3.9    134        39\n",
      "36532   4.2   3307        28\n",
      "38364   3.8     33        17\n",
      "17035   3.3     15        11\n",
      "32381   4.6    121        24\n",
      "\n",
      "[28865 rows x 3 columns]\n",
      "41191     237\n",
      "1572       20\n",
      "4743       69\n",
      "21832     416\n",
      "30729     815\n",
      "         ... \n",
      "5051     1009\n",
      "36532    1718\n",
      "38364      26\n",
      "17035      63\n",
      "32381     178\n",
      "Name: cuisines, Length: 28865, dtype: int64\n"
     ]
    }
   ],
   "source": [
    "#defining the independent variables\n",
    "x2 = zomato_en.iloc[:,[4,5,6]]\n",
    "y2 = zomato_en['cuisines']\n",
    "#getting Test and Trainnig Set\n",
    "x2_train,x2_test,y2_train,y2_test=train_test_split(x2,y2,test_size=.3,random_state=353)\n",
    "print(x2_train)\n",
    "print(y2_train)"
   ]
  },
  {
   "cell_type": "code",
   "execution_count": 14,
   "id": "ac26704d",
   "metadata": {
    "execution": {
     "iopub.execute_input": "2023-11-24T03:57:12.254205Z",
     "iopub.status.busy": "2023-11-24T03:57:12.253783Z",
     "iopub.status.idle": "2023-11-24T03:57:13.247392Z",
     "shell.execute_reply": "2023-11-24T03:57:13.245985Z"
    },
    "papermill": {
     "duration": 1.008186,
     "end_time": "2023-11-24T03:57:13.250076",
     "exception": false,
     "start_time": "2023-11-24T03:57:12.241890",
     "status": "completed"
    },
    "tags": []
   },
   "outputs": [
    {
     "name": "stdout",
     "output_type": "stream",
     "text": [
      "0.6046718396378921\n",
      "[  67 1541 2132 ...  970 1270  837]\n"
     ]
    }
   ],
   "source": [
    "from sklearn.neighbors import KNeighborsClassifier\n",
    "knn = KNeighborsClassifier(n_neighbors=3)\n",
    "#Fit the model\n",
    "knn.fit(x2_train, y2_train)\n",
    "test_accuracy = knn.score(x2_test, y2_test)\n",
    "y_pred = knn.predict(x2_test)\n",
    "print(test_accuracy)\n",
    "print(y_pred)"
   ]
  },
  {
   "cell_type": "code",
   "execution_count": 15,
   "id": "e30c0f0d",
   "metadata": {
    "execution": {
     "iopub.execute_input": "2023-11-24T03:57:13.273775Z",
     "iopub.status.busy": "2023-11-24T03:57:13.273024Z",
     "iopub.status.idle": "2023-11-24T03:57:13.279485Z",
     "shell.execute_reply": "2023-11-24T03:57:13.277991Z"
    },
    "papermill": {
     "duration": 0.021715,
     "end_time": "2023-11-24T03:57:13.282419",
     "exception": false,
     "start_time": "2023-11-24T03:57:13.260704",
     "status": "completed"
    },
    "tags": []
   },
   "outputs": [],
   "source": [
    "def CountFrequency(my_list):\n",
    " \n",
    "    # Creating an empty dictionary\n",
    "    freq = {}\n",
    "    for item in my_list:\n",
    "        if (item in freq):\n",
    "            freq[item] += 1\n",
    "        else:\n",
    "            freq[item] = 1\n",
    "    return freq"
   ]
  },
  {
   "cell_type": "code",
   "execution_count": 16,
   "id": "5e722ecd",
   "metadata": {
    "execution": {
     "iopub.execute_input": "2023-11-24T03:57:13.306637Z",
     "iopub.status.busy": "2023-11-24T03:57:13.306199Z",
     "iopub.status.idle": "2023-11-24T03:57:17.962966Z",
     "shell.execute_reply": "2023-11-24T03:57:17.960405Z"
    },
    "papermill": {
     "duration": 4.674631,
     "end_time": "2023-11-24T03:57:17.967804",
     "exception": false,
     "start_time": "2023-11-24T03:57:13.293173",
     "status": "completed"
    },
    "tags": []
   },
   "outputs": [
    {
     "name": "stdout",
     "output_type": "stream",
     "text": [
      "['Indiranagar']\n",
      "['North Indian', 5]\n"
     ]
    }
   ],
   "source": [
    "from statistics import mode\n",
    "def predict_cuisine(l1):\n",
    "    cus=\"\"\n",
    "    dfz1 = pd.DataFrame()\n",
    "    for j in l1:\n",
    "        v=zomato[zomato['location'] == j].index\n",
    "        zomato[zomato['location'] == j].index\n",
    "        z=[]\n",
    "        for i in v:\n",
    "            z.append(dict(zomato_en.iloc[i]))\n",
    "            x=dict(zomato_en.iloc[i])\n",
    "            dfz1 = dfz1.append(x, ignore_index=True)\n",
    "    l = dfz1.iloc[:,[4,5,6]]\n",
    "    x=knn.predict(l)\n",
    "    y=mode(x)\n",
    "    v=zomato_en[zomato_en['cuisines'] == y].index\n",
    "    s=zomato.iloc[v[0]]\n",
    "    cus=s['cuisines']\n",
    "    return [cus,y]\n",
    "l2=[]\n",
    "z=random.randint(0, zomato.shape[0])\n",
    "l2.append(zomato.iloc[z]['location'])\n",
    "print(l2)\n",
    "y=predict_cuisine(l2)\n",
    "print(y)"
   ]
  },
  {
   "cell_type": "code",
   "execution_count": 17,
   "id": "a29d7b9b",
   "metadata": {
    "execution": {
     "iopub.execute_input": "2023-11-24T03:57:17.993653Z",
     "iopub.status.busy": "2023-11-24T03:57:17.993182Z",
     "iopub.status.idle": "2023-11-24T03:57:22.696569Z",
     "shell.execute_reply": "2023-11-24T03:57:22.695427Z"
    },
    "papermill": {
     "duration": 4.720238,
     "end_time": "2023-11-24T03:57:22.700716",
     "exception": false,
     "start_time": "2023-11-24T03:57:17.980478",
     "status": "completed"
    },
    "tags": []
   },
   "outputs": [
    {
     "name": "stdout",
     "output_type": "stream",
     "text": [
      "       cuisines    cost\n",
      "41191       237  1700.0\n",
      "1572         20   700.0\n",
      "4743         69   150.0\n",
      "21832       416   200.0\n",
      "30729       815  2000.0\n",
      "...         ...     ...\n",
      "5051       1009   800.0\n",
      "36532      1718  1400.0\n",
      "38364        26   350.0\n",
      "17035        63   350.0\n",
      "32381       178   400.0\n",
      "\n",
      "[28865 rows x 2 columns]\n",
      "41191    6526\n",
      "1572      499\n",
      "4743     2270\n",
      "21832     833\n",
      "30729    1858\n",
      "         ... \n",
      "5051     2250\n",
      "36532    1404\n",
      "38364    5468\n",
      "17035     761\n",
      "32381    2584\n",
      "Name: name, Length: 28865, dtype: int64\n"
     ]
    }
   ],
   "source": [
    "from sklearn.neural_network import MLPClassifier\n",
    "from sklearn.naive_bayes import GaussianNB\n",
    "x3 = zomato_en.iloc[:,[8,9]]\n",
    "y3 = zomato_en['name']\n",
    "#getting Test and Trainnig Set\n",
    "x3_train,x3_test,y3_train,y3_test=train_test_split(x3,y3,test_size=.3,random_state=353)\n",
    "print(x3_train)\n",
    "print(y3_train)\n",
    "gnb = GaussianNB()\n",
    "gnb.fit(x3_train, y3_train)\n",
    "y3_predict=gnb.predict(x3_test)"
   ]
  },
  {
   "cell_type": "code",
   "execution_count": 18,
   "id": "ef9a15e1",
   "metadata": {
    "execution": {
     "iopub.execute_input": "2023-11-24T03:57:22.738635Z",
     "iopub.status.busy": "2023-11-24T03:57:22.737744Z",
     "iopub.status.idle": "2023-11-24T03:57:22.996858Z",
     "shell.execute_reply": "2023-11-24T03:57:22.995106Z"
    },
    "papermill": {
     "duration": 0.281762,
     "end_time": "2023-11-24T03:57:23.000203",
     "exception": false,
     "start_time": "2023-11-24T03:57:22.718441",
     "status": "completed"
    },
    "tags": []
   },
   "outputs": [
    {
     "name": "stdout",
     "output_type": "stream",
     "text": [
      "['HBR Layout']\n",
      "[('South Indian, North Indian', 3), ('Continental, Burger, Salad, Pizza, Beverages', 1912), ('South Indian, North Indian', 5)]\n"
     ]
    }
   ],
   "source": [
    "def predict_cuisines1(l1):\n",
    "    cus=\"\"\n",
    "    dfz1 = pd.DataFrame()\n",
    "    for j in l1:\n",
    "        v=zomato[zomato['location'] == j].index\n",
    "        zomato[zomato['location'] == j].index\n",
    "        z=[]\n",
    "        for i in v:\n",
    "            z.append(dict(zomato_en.iloc[i]))\n",
    "            x=dict(zomato_en.iloc[i])\n",
    "            dfz1 = dfz1.append(x, ignore_index=True)\n",
    "    l = dfz1.iloc[:,[4,5,6]]\n",
    "    x=knn.predict(l)\n",
    "    z=CountFrequency(x)\n",
    "    z1=sorted(z.items(), key=lambda x:x[1])\n",
    "    y=mode(x)\n",
    "    v1=zomato_en[zomato_en['cuisines'] == z1[0][0]].index\n",
    "    s1=zomato.iloc[v1[0]]\n",
    "    cus1=s1['cuisines']\n",
    "    tempcus1=cus1.split(',')\n",
    "    fcus1=tempcus1[0]\n",
    "    v2=zomato_en[zomato_en['cuisines'] == z1[1][0]].index\n",
    "    s2=zomato.iloc[v2[0]]\n",
    "    cus2=s2['cuisines']\n",
    "    tempcus2=cus2.split(',')\n",
    "    fcus2=tempcus2[0]\n",
    "    v3=zomato_en[zomato_en['cuisines'] == z1[0][0]].index\n",
    "    s3=zomato.iloc[v3[0]]\n",
    "    cus3=s3['cuisines']\n",
    "    tempcus3=cus3.split(',')\n",
    "    fcus3=tempcus3[0]\n",
    "    return [(cus1,z1[0][0]),(cus2,z1[1][0]),(cus3,z1[2][0])]\n",
    "l2=[]\n",
    "z=random.randint(0, zomato.shape[0])\n",
    "l2.append(zomato.iloc[z]['location'])\n",
    "print(l2)\n",
    "y=predict_cuisines1(l2)\n",
    "print(y)"
   ]
  },
  {
   "cell_type": "code",
   "execution_count": 19,
   "id": "b967db35",
   "metadata": {
    "execution": {
     "iopub.execute_input": "2023-11-24T03:57:23.025103Z",
     "iopub.status.busy": "2023-11-24T03:57:23.024414Z",
     "iopub.status.idle": "2023-11-24T03:57:23.042175Z",
     "shell.execute_reply": "2023-11-24T03:57:23.040877Z"
    },
    "papermill": {
     "duration": 0.033353,
     "end_time": "2023-11-24T03:57:23.044853",
     "exception": false,
     "start_time": "2023-11-24T03:57:23.011500",
     "status": "completed"
    },
    "tags": []
   },
   "outputs": [],
   "source": [
    "def final():\n",
    "    l2=[]\n",
    "    z=random.randint(0, zomato.shape[0])\n",
    "    l2.append(zomato.iloc[z]['name'])\n",
    "    z=random.randint(0, zomato.shape[0])\n",
    "    l2.append(zomato.iloc[z]['name'])\n",
    "    z=random.randint(0, zomato.shape[0])\n",
    "    l2.append(zomato.iloc[z]['name'])\n",
    "    print(l2)\n",
    "    y=predict_rate(l2)\n",
    "    print(y)\n",
    "    l2=[]\n",
    "    z=random.randint(0, zomato.shape[0])\n",
    "    l2.append(zomato.iloc[z]['location'])\n",
    "    print(l2)\n",
    "    z=predict_cuisines1(l2)\n",
    "    data = [{'cost': y-250,'cuisines': z[0][1]},{'cost': y-250,'cuisines': z[1][1]},{'cost': y-250,'cuisines': z[2][1]},{'cost': y,'cuisines': z[0][1]},{'cost': y,'cuisines': z[1][1]},{'cost': y,'cuisines': z[2][1]},{'cost': y+250,'cuisines': z[0][1]},{'cost': y+250,'cuisines': z[1][1]},{'cost': y+250,'cuisines': z[2][1]}]\n",
    "    df5 = pd.DataFrame(data)\n",
    "    f=gnb.predict(df5)\n",
    "    ff=[]\n",
    "    print(\"FEATURED RESTUARANTS \")\n",
    "    for i in f:\n",
    "        v=zomato_en[zomato_en['name'] == i].index\n",
    "        s=zomato.iloc[v[0]]\n",
    "        cus=s['name']\n",
    "        ff.append(cus)\n",
    "        print(cus)\n",
    "    return [ff[3],ff[4],ff[5]]\n"
   ]
  },
  {
   "cell_type": "code",
   "execution_count": 20,
   "id": "6e56c309",
   "metadata": {
    "_kg_hide-output": false,
    "execution": {
     "iopub.execute_input": "2023-11-24T03:57:23.068471Z",
     "iopub.status.busy": "2023-11-24T03:57:23.068068Z",
     "iopub.status.idle": "2023-11-24T03:57:24.635694Z",
     "shell.execute_reply": "2023-11-24T03:57:24.633454Z"
    },
    "papermill": {
     "duration": 1.58291,
     "end_time": "2023-11-24T03:57:24.638483",
     "exception": false,
     "start_time": "2023-11-24T03:57:23.055573",
     "status": "completed"
    },
    "scrolled": true,
    "tags": []
   },
   "outputs": [
    {
     "name": "stdout",
     "output_type": "stream",
     "text": [
      "['Toast & Tonic', 'Eatzgreen', 'Desi Vdesi']\n",
      "468.75\n",
      "['Old Airport Road']\n",
      "FEATURED RESTUARANTS \n",
      "Maravanthe\n",
      "Juice Berg\n",
      "Roll Over\n",
      "Caffe Pascucci\n",
      "36Th Cross Coffee Mane\n",
      "Stoner\n",
      "Rajdhani Thali Restaurant\n",
      "Fujian Express\n",
      "Tata Cha\n",
      " FEW MORE RESTUARANTS \n",
      "The Pizza Bakery\n",
      "36Th Cross Coffee Mane\n",
      "Cafe Aladdin\n",
      "Chez Mariannick\n",
      "Chikkanna Tiffin Room\n",
      "Smally'S Resto Cafe\n",
      "Sidewalk Cafe - Nahar'S Heritage Hotel\n",
      "D'7 Feast Resto Cafe\n",
      "Mysuru Coffee Thindi\n",
      "Kakal-Kai Ruchi\n",
      "Enchanted Garden\n",
      "Nutty Squirrel\n",
      "Prasiddhi Food Corner\n",
      "On The Nose\n",
      "Hoot\n",
      "Burma Burma\n",
      "Snow'Ora\n",
      "Mtr 1924\n",
      "Mayura Sagar\n",
      "Red Chilli\n",
      "Ciclo Cafe\n",
      "Communiti\n",
      "Mavalli Tiffin Room (Mtr)\n",
      "Cafe Mondo\n",
      "Cafe @ Elanza\n",
      "Pasta Street\n",
      "New Shanthi Sagar\n",
      "Onesta\n",
      "Crawl Street\n",
      "Stoner\n",
      "Real Fresh Dosa Corner\n",
      "Vidyarthi Bhavan\n",
      "Janahaar\n",
      "Spice Affair\n",
      "Podi Idly\n",
      "Nys Kitchen\n",
      "Whooppeezz\n",
      "Caffe Pascucci\n"
     ]
    }
   ],
   "source": [
    "def toprest():\n",
    "    x=final()\n",
    "    l1=recommend(x[0])\n",
    "    l2=recommend(x[1])\n",
    "    l3=recommend(x[2])\n",
    "    l=l1+l2+l3\n",
    "    list_set = set(l)\n",
    "    unique_list = (list(list_set))\n",
    "    print(\" FEW MORE RESTUARANTS \")\n",
    "    for i in unique_list:\n",
    "        print(i)\n",
    "toprest()"
   ]
  }
 ],
 "metadata": {
  "kaggle": {
   "accelerator": "none",
   "dataSources": [
    {
     "datasetId": 2563857,
     "sourceId": 4356262,
     "sourceType": "datasetVersion"
    }
   ],
   "dockerImageVersionId": 30301,
   "isGpuEnabled": false,
   "isInternetEnabled": true,
   "language": "python",
   "sourceType": "notebook"
  },
  "kernelspec": {
   "display_name": "Python 3",
   "language": "python",
   "name": "python3"
  },
  "language_info": {
   "codemirror_mode": {
    "name": "ipython",
    "version": 3
   },
   "file_extension": ".py",
   "mimetype": "text/x-python",
   "name": "python",
   "nbconvert_exporter": "python",
   "pygments_lexer": "ipython3",
   "version": "3.7.12"
  },
  "papermill": {
   "default_parameters": {},
   "duration": 512.361227,
   "end_time": "2023-11-24T03:57:26.379443",
   "environment_variables": {},
   "exception": null,
   "input_path": "__notebook__.ipynb",
   "output_path": "__notebook__.ipynb",
   "parameters": {},
   "start_time": "2023-11-24T03:48:54.018216",
   "version": "2.3.4"
  },
  "vscode": {
   "interpreter": {
    "hash": "c143d98e209b4d33982d9d122236449bda61a8521485dff82b5e31bf61befae8"
   }
  }
 },
 "nbformat": 4,
 "nbformat_minor": 5
}
